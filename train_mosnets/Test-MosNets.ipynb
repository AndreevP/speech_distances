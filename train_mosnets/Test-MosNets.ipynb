{
 "cells": [
  {
   "cell_type": "markdown",
   "id": "based-indonesia",
   "metadata": {},
   "source": [
    "# Test VCC2018"
   ]
  },
  {
   "cell_type": "code",
   "execution_count": 1,
   "id": "falling-closure",
   "metadata": {},
   "outputs": [
    {
     "name": "stderr",
     "output_type": "stream",
     "text": [
      "comet_ml is installed but `COMET_API_KEY` is not set.\n",
      "################################################################################\n",
      "### WARNING, path does not exist: KALDI_ROOT=/mnt/matylda5/iveselyk/Tools/kaldi-trunk\n",
      "###          (please add 'export KALDI_ROOT=<your_path>' in your $HOME/.profile)\n",
      "###          (or run as: KALDI_ROOT=<your_path> python <your_script>.py)\n",
      "################################################################################\n",
      "\n",
      "[NeMo W 2021-05-29 21:31:09 experimental:28] Module <class 'nemo.collections.asr.data.audio_to_text_dali.AudioToCharDALIDataset'> is experimental, not ready for production and is not fully supported. Use at your own risk.\n"
     ]
    }
   ],
   "source": [
    "import warnings; warnings.simplefilter('ignore')\n",
    "import models\n",
    "import dataset\n",
    "import torch    \n",
    "from collections import OrderedDict\n",
    "\n",
    "def extract_prefix(prefix, weights):\n",
    "    result = OrderedDict()\n",
    "    for key in weights:\n",
    "        if key.find(prefix) == 0:\n",
    "            result[key[len(prefix):]] = weights[key]\n",
    "    return result   "
   ]
  },
  {
   "cell_type": "code",
   "execution_count": 3,
   "id": "connected-anaheim",
   "metadata": {},
   "outputs": [],
   "source": [
    "# Set here checkpoint path and model type\n",
    "CHECKPOINT_PATH = '../../my_mosnet/mbblock_ep40.ckpt'\n",
    "VCC2018_PATH = '../../MOSNet/data/wav/'\n",
    "VCC2016_PATH = '../../vcc2016_submissions/'\n",
    "MODEL_TYPE = models.MOSNetBatchNorm"
   ]
  },
  {
   "cell_type": "code",
   "execution_count": 4,
   "id": "central-terminal",
   "metadata": {},
   "outputs": [],
   "source": [
    "ds = dataset.VCC2018Dataset(list_path='data/mos_list.txt', data_path=VCC2018_PATH)\n",
    "model = MODEL_TYPE().cuda()\n",
    "model.load_state_dict(extract_prefix('model.', torch.load(CHECKPOINT_PATH)['state_dict']))\n",
    "_=model.eval()"
   ]
  },
  {
   "cell_type": "code",
   "execution_count": 5,
   "id": "forbidden-pension",
   "metadata": {},
   "outputs": [
    {
     "name": "stderr",
     "output_type": "stream",
     "text": [
      "100%|██████████| 4000/4000 [00:26<00:00, 149.89it/s]\n"
     ]
    }
   ],
   "source": [
    "import tqdm\n",
    "\n",
    "pred_mos = []\n",
    "gt_mos   = []\n",
    "for i in tqdm.trange(ds.getlen('test')):\n",
    "    spec, mos = ds.getitem('test', i)\n",
    "    with torch.no_grad():\n",
    "        res = model(spec.cuda()).mean()\n",
    "    \n",
    "    gt_mos.append(mos.item())\n",
    "    pred_mos.append(res.item())"
   ]
  },
  {
   "cell_type": "code",
   "execution_count": 6,
   "id": "fifth-italic",
   "metadata": {},
   "outputs": [],
   "source": [
    "import numpy as np\n",
    "import scipy.stats as ss\n",
    "\n",
    "mse = ((np.array(pred_mos)-np.array(gt_mos))**2).mean()\n",
    "lcc = np.corrcoef(np.array(gt_mos), np.array(pred_mos))[0,1]\n",
    "srcc = ss.spearmanr(np.array(gt_mos), np.array(pred_mos))[0]"
   ]
  },
  {
   "cell_type": "code",
   "execution_count": 7,
   "id": "respected-montana",
   "metadata": {},
   "outputs": [],
   "source": [
    "ds.samples['test'].columns = ['audio', 'true_mos']\n",
    "df = ds.samples['test'].copy()\n",
    "df['predict_mos'] = np.array(pred_mos)"
   ]
  },
  {
   "cell_type": "code",
   "execution_count": 8,
   "id": "cooperative-singles",
   "metadata": {},
   "outputs": [],
   "source": [
    "import pandas as pd\n",
    "\n",
    "sys_df = pd.read_csv('data/vcc2018_system.csv')\n",
    "df['system_ID'] = df['audio'].str.split('_').str[-1].str.split('.').str[0] + '_' + df['audio'].str.split('_').str[0]\n",
    "result_mean = df[['system_ID', 'predict_mos']].groupby(['system_ID']).mean()\n",
    "mer_df = pd.merge(result_mean, sys_df, on='system_ID')                                                                                                                 \n",
    "\n",
    "sys_true = mer_df['mean']\n",
    "sys_predicted = mer_df['predict_mos']"
   ]
  },
  {
   "cell_type": "code",
   "execution_count": 9,
   "id": "touched-manhattan",
   "metadata": {},
   "outputs": [],
   "source": [
    "sys_mse = ((sys_true-sys_predicted)**2).mean()\n",
    "sys_lcc = np.corrcoef(sys_true, sys_predicted)[0,1]\n",
    "sys_srcc = ss.spearmanr(sys_true, sys_predicted)[0]"
   ]
  },
  {
   "cell_type": "code",
   "execution_count": 10,
   "id": "accurate-federal",
   "metadata": {},
   "outputs": [
    {
     "name": "stdout",
     "output_type": "stream",
     "text": [
      "[Utterance] MSE = 0.4349 LCC = 0.6908 SRCC = 0.6611\n",
      "[System   ] MSE = 0.0381 LCC = 0.9796 SRCC = 0.9381\n"
     ]
    }
   ],
   "source": [
    "print('[Utterance] MSE = {:.4f} LCC = {:.4f} SRCC = {:.4f}'.format(mse, lcc, srcc))\n",
    "print('[System   ] MSE = {:.4f} LCC = {:.4f} SRCC = {:.4f}'.format(sys_mse, sys_lcc, sys_srcc))"
   ]
  },
  {
   "cell_type": "markdown",
   "id": "necessary-rebel",
   "metadata": {},
   "source": [
    "# Test VCC2016"
   ]
  },
  {
   "cell_type": "code",
   "execution_count": 13,
   "id": "demographic-williams",
   "metadata": {},
   "outputs": [],
   "source": [
    "from io import StringIO\n",
    "\n",
    "eh1 = pd.read_csv(StringIO('\\n'.join([s.strip().replace(':MOS', '') for s in open('data/vcc16/mos_EH1.txt', 'r').readlines()])), sep='\\t')\n",
    "eh2 = pd.read_csv(StringIO('\\n'.join([s.strip().replace(':MOS', '') for s in open('data/vcc16/mos_EH2.txt', 'r').readlines()])), sep='\\t')\n",
    "\n",
    "mos_vcc2016 = pd.DataFrame(pd.concat([eh1, eh2]).mean())\n",
    "mos_vcc2016.columns = ['system_mos']"
   ]
  },
  {
   "cell_type": "code",
   "execution_count": 16,
   "id": "compressed-hardwood",
   "metadata": {},
   "outputs": [],
   "source": [
    "import glob\n",
    "import os\n",
    "\n",
    "vcc2016 = glob.glob(os.path.join(VCC2016_PATH, '*/*.wav'))\n",
    "\n",
    "df = pd.DataFrame({\n",
    "    'audio': vcc2016,\n",
    "    'system': [s.split('/')[-2] for s in vcc2016]\n",
    "})"
   ]
  },
  {
   "cell_type": "code",
   "execution_count": 17,
   "id": "palestinian-vienna",
   "metadata": {},
   "outputs": [
    {
     "name": "stderr",
     "output_type": "stream",
     "text": [
      "100%|██████████| 26028/26028 [02:50<00:00, 152.51it/s]\n"
     ]
    }
   ],
   "source": [
    "import librosa\n",
    "import scipy.signal\n",
    "\n",
    "def load(path):\n",
    "    signal,sr = librosa.load(path, sr=16000)\n",
    "    spec = np.abs(librosa.stft(signal, n_fft=512, hop_length=256, win_length=512, window=scipy.signal.hamming).T).astype(np.float32) # [time, 257]\n",
    "\n",
    "    return torch.as_tensor(spec).unsqueeze(0).unsqueeze(1)\n",
    "\n",
    "    \n",
    "pred_mos = []\n",
    "\n",
    "for i in tqdm.trange(df.shape[0]):\n",
    "    spec = load(df.iloc[i]['audio'])\n",
    "    \n",
    "    with torch.no_grad():\n",
    "        res = model(spec.cuda()).mean()\n",
    "    \n",
    "    pred_mos.append(res.item())"
   ]
  },
  {
   "cell_type": "code",
   "execution_count": 18,
   "id": "copyrighted-trauma",
   "metadata": {},
   "outputs": [],
   "source": [
    "df['pred_mos'] = np.array(pred_mos)"
   ]
  },
  {
   "cell_type": "code",
   "execution_count": 19,
   "id": "median-roller",
   "metadata": {},
   "outputs": [],
   "source": [
    "gt_mos = np.array(mos_vcc2016.sort_index()['system_mos'])\n",
    "pred_mos = np.array(df.groupby('system').mean()['pred_mos'])"
   ]
  },
  {
   "cell_type": "code",
   "execution_count": 20,
   "id": "rising-spending",
   "metadata": {},
   "outputs": [
    {
     "name": "stdout",
     "output_type": "stream",
     "text": [
      "MSE = 0.4226 LCC = 0.9347 SRCC = 0.8872\n"
     ]
    }
   ],
   "source": [
    "def score(gt, pred):\n",
    "    mse = ((gt-pred)**2).mean()\n",
    "    lcc = np.corrcoef(gt, pred)[0,1]\n",
    "    srcc = ss.spearmanr(gt, pred)[0]\n",
    "    print('MSE = {:.4f} LCC = {:.4f} SRCC = {:.4f}'.format(mse, lcc, srcc))\n",
    "    \n",
    "score(gt_mos, pred_mos)"
   ]
  }
 ],
 "metadata": {
  "kernelspec": {
   "display_name": "Python 3",
   "language": "python",
   "name": "python3"
  },
  "language_info": {
   "codemirror_mode": {
    "name": "ipython",
    "version": 3
   },
   "file_extension": ".py",
   "mimetype": "text/x-python",
   "name": "python",
   "nbconvert_exporter": "python",
   "pygments_lexer": "ipython3",
   "version": "3.7.10"
  }
 },
 "nbformat": 4,
 "nbformat_minor": 5
}
