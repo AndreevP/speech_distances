{
  "nbformat": 4,
  "nbformat_minor": 0,
  "metadata": {
    "colab": {
      "name": "hifigan_inference.ipynb",
      "provenance": [],
      "collapsed_sections": []
    },
    "kernelspec": {
      "name": "python3",
      "display_name": "Python 3"
    },
    "language_info": {
      "name": "python"
    },
    "accelerator": "GPU",
    "widgets": {
      "application/vnd.jupyter.widget-state+json": {
        "86ddf6cc64bf481492d1c32c8cdb9552": {
          "model_module": "@jupyter-widgets/controls",
          "model_name": "HBoxModel",
          "state": {
            "_view_name": "HBoxView",
            "_dom_classes": [],
            "_model_name": "HBoxModel",
            "_view_module": "@jupyter-widgets/controls",
            "_model_module_version": "1.5.0",
            "_view_count": null,
            "_view_module_version": "1.5.0",
            "box_style": "",
            "layout": "IPY_MODEL_f025af03b21741709099178546a93731",
            "_model_module": "@jupyter-widgets/controls",
            "children": [
              "IPY_MODEL_a3b33f96938d41b79698943ae6bd17c8",
              "IPY_MODEL_f0037e0b17a24ee8b86d9cb471b02d34"
            ]
          }
        },
        "f025af03b21741709099178546a93731": {
          "model_module": "@jupyter-widgets/base",
          "model_name": "LayoutModel",
          "state": {
            "_view_name": "LayoutView",
            "grid_template_rows": null,
            "right": null,
            "justify_content": null,
            "_view_module": "@jupyter-widgets/base",
            "overflow": null,
            "_model_module_version": "1.2.0",
            "_view_count": null,
            "flex_flow": null,
            "width": null,
            "min_width": null,
            "border": null,
            "align_items": null,
            "bottom": null,
            "_model_module": "@jupyter-widgets/base",
            "top": null,
            "grid_column": null,
            "overflow_y": null,
            "overflow_x": null,
            "grid_auto_flow": null,
            "grid_area": null,
            "grid_template_columns": null,
            "flex": null,
            "_model_name": "LayoutModel",
            "justify_items": null,
            "grid_row": null,
            "max_height": null,
            "align_content": null,
            "visibility": null,
            "align_self": null,
            "height": null,
            "min_height": null,
            "padding": null,
            "grid_auto_rows": null,
            "grid_gap": null,
            "max_width": null,
            "order": null,
            "_view_module_version": "1.2.0",
            "grid_template_areas": null,
            "object_position": null,
            "object_fit": null,
            "grid_auto_columns": null,
            "margin": null,
            "display": null,
            "left": null
          }
        },
        "a3b33f96938d41b79698943ae6bd17c8": {
          "model_module": "@jupyter-widgets/controls",
          "model_name": "FloatProgressModel",
          "state": {
            "_view_name": "ProgressView",
            "style": "IPY_MODEL_df8f7771df5041f5b65b5f73d71b7c6c",
            "_dom_classes": [],
            "description": "100%",
            "_model_name": "FloatProgressModel",
            "bar_style": "success",
            "max": 2748572632,
            "_view_module": "@jupyter-widgets/controls",
            "_model_module_version": "1.5.0",
            "value": 2748572632,
            "_view_count": null,
            "_view_module_version": "1.5.0",
            "orientation": "horizontal",
            "min": 0,
            "description_tooltip": null,
            "_model_module": "@jupyter-widgets/controls",
            "layout": "IPY_MODEL_140d48f2940347219a0e94a5fd4a97f3"
          }
        },
        "f0037e0b17a24ee8b86d9cb471b02d34": {
          "model_module": "@jupyter-widgets/controls",
          "model_name": "HTMLModel",
          "state": {
            "_view_name": "HTMLView",
            "style": "IPY_MODEL_96e6a1357e97446b94abe0d38c7aaad4",
            "_dom_classes": [],
            "description": "",
            "_model_name": "HTMLModel",
            "placeholder": "​",
            "_view_module": "@jupyter-widgets/controls",
            "_model_module_version": "1.5.0",
            "value": " 2.56G/2.56G [01:52&lt;00:00, 24.5MB/s]",
            "_view_count": null,
            "_view_module_version": "1.5.0",
            "description_tooltip": null,
            "_model_module": "@jupyter-widgets/controls",
            "layout": "IPY_MODEL_0837f5d3164c4e2dbfa0d1e811640846"
          }
        },
        "df8f7771df5041f5b65b5f73d71b7c6c": {
          "model_module": "@jupyter-widgets/controls",
          "model_name": "ProgressStyleModel",
          "state": {
            "_view_name": "StyleView",
            "_model_name": "ProgressStyleModel",
            "description_width": "initial",
            "_view_module": "@jupyter-widgets/base",
            "_model_module_version": "1.5.0",
            "_view_count": null,
            "_view_module_version": "1.2.0",
            "bar_color": null,
            "_model_module": "@jupyter-widgets/controls"
          }
        },
        "140d48f2940347219a0e94a5fd4a97f3": {
          "model_module": "@jupyter-widgets/base",
          "model_name": "LayoutModel",
          "state": {
            "_view_name": "LayoutView",
            "grid_template_rows": null,
            "right": null,
            "justify_content": null,
            "_view_module": "@jupyter-widgets/base",
            "overflow": null,
            "_model_module_version": "1.2.0",
            "_view_count": null,
            "flex_flow": null,
            "width": null,
            "min_width": null,
            "border": null,
            "align_items": null,
            "bottom": null,
            "_model_module": "@jupyter-widgets/base",
            "top": null,
            "grid_column": null,
            "overflow_y": null,
            "overflow_x": null,
            "grid_auto_flow": null,
            "grid_area": null,
            "grid_template_columns": null,
            "flex": null,
            "_model_name": "LayoutModel",
            "justify_items": null,
            "grid_row": null,
            "max_height": null,
            "align_content": null,
            "visibility": null,
            "align_self": null,
            "height": null,
            "min_height": null,
            "padding": null,
            "grid_auto_rows": null,
            "grid_gap": null,
            "max_width": null,
            "order": null,
            "_view_module_version": "1.2.0",
            "grid_template_areas": null,
            "object_position": null,
            "object_fit": null,
            "grid_auto_columns": null,
            "margin": null,
            "display": null,
            "left": null
          }
        },
        "96e6a1357e97446b94abe0d38c7aaad4": {
          "model_module": "@jupyter-widgets/controls",
          "model_name": "DescriptionStyleModel",
          "state": {
            "_view_name": "StyleView",
            "_model_name": "DescriptionStyleModel",
            "description_width": "",
            "_view_module": "@jupyter-widgets/base",
            "_model_module_version": "1.5.0",
            "_view_count": null,
            "_view_module_version": "1.2.0",
            "_model_module": "@jupyter-widgets/controls"
          }
        },
        "0837f5d3164c4e2dbfa0d1e811640846": {
          "model_module": "@jupyter-widgets/base",
          "model_name": "LayoutModel",
          "state": {
            "_view_name": "LayoutView",
            "grid_template_rows": null,
            "right": null,
            "justify_content": null,
            "_view_module": "@jupyter-widgets/base",
            "overflow": null,
            "_model_module_version": "1.2.0",
            "_view_count": null,
            "flex_flow": null,
            "width": null,
            "min_width": null,
            "border": null,
            "align_items": null,
            "bottom": null,
            "_model_module": "@jupyter-widgets/base",
            "top": null,
            "grid_column": null,
            "overflow_y": null,
            "overflow_x": null,
            "grid_auto_flow": null,
            "grid_area": null,
            "grid_template_columns": null,
            "flex": null,
            "_model_name": "LayoutModel",
            "justify_items": null,
            "grid_row": null,
            "max_height": null,
            "align_content": null,
            "visibility": null,
            "align_self": null,
            "height": null,
            "min_height": null,
            "padding": null,
            "grid_auto_rows": null,
            "grid_gap": null,
            "max_width": null,
            "order": null,
            "_view_module_version": "1.2.0",
            "grid_template_areas": null,
            "object_position": null,
            "object_fit": null,
            "grid_auto_columns": null,
            "margin": null,
            "display": null,
            "left": null
          }
        }
      }
    }
  },
  "cells": [
    {
      "cell_type": "markdown",
      "metadata": {
        "id": "wFA0f4FAxtT-"
      },
      "source": [
        "# HiFi-GAN driven .wav generator"
      ]
    },
    {
      "cell_type": "markdown",
      "metadata": {
        "id": "klxLDLh-x5TH"
      },
      "source": [
        "Clone repo in colab"
      ]
    },
    {
      "cell_type": "code",
      "metadata": {
        "colab": {
          "base_uri": "https://localhost:8080/"
        },
        "id": "09hAYrAj3kTs",
        "outputId": "5853eb64-62f7-4640-92f8-808c1c8cfe1e"
      },
      "source": [
        "%%bash\n",
        "git clone https://github.com/AndreevP/speech_distances.git\n",
        "cd speech_distances\n",
        "git submodule init\n",
        "git submodule update"
      ],
      "execution_count": 3,
      "outputs": [
        {
          "output_type": "stream",
          "text": [
            "Submodule path 'thirdparty/hifi-gan': checked out '4769534d45265d52a904b850da5a622601885777'\n"
          ],
          "name": "stdout"
        },
        {
          "output_type": "stream",
          "text": [
            "Cloning into 'speech_distances'...\n",
            "Submodule 'thirdparty/hifi-gan' (https://github.com/jik876/hifi-gan.git) registered for path 'thirdparty/hifi-gan'\n",
            "Cloning into '/content/speech_distances/thirdparty/hifi-gan'...\n"
          ],
          "name": "stderr"
        }
      ]
    },
    {
      "cell_type": "code",
      "metadata": {
        "colab": {
          "base_uri": "https://localhost:8080/"
        },
        "id": "ZMARn4-8U8Uu",
        "outputId": "6529efcb-358c-4d64-b824-24b8e1810bf6"
      },
      "source": [
        "cd speech_distances/"
      ],
      "execution_count": 2,
      "outputs": [
        {
          "output_type": "stream",
          "text": [
            "/content/speech_distances\n"
          ],
          "name": "stdout"
        }
      ]
    },
    {
      "cell_type": "code",
      "metadata": {
        "id": "lmqLiyDPTQMv"
      },
      "source": [
        "# import sys\n",
        "# sys.path.append('/speech_distances')\n",
        "\n",
        "from speech_distances import load_dataset"
      ],
      "execution_count": 3,
      "outputs": []
    },
    {
      "cell_type": "markdown",
      "metadata": {
        "id": "IF3Kumdyx_DZ"
      },
      "source": [
        "Load `ljspeech` dataset"
      ]
    },
    {
      "cell_type": "code",
      "metadata": {
        "colab": {
          "base_uri": "https://localhost:8080/",
          "height": 116,
          "referenced_widgets": [
            "86ddf6cc64bf481492d1c32c8cdb9552",
            "f025af03b21741709099178546a93731",
            "a3b33f96938d41b79698943ae6bd17c8",
            "f0037e0b17a24ee8b86d9cb471b02d34",
            "df8f7771df5041f5b65b5f73d71b7c6c",
            "140d48f2940347219a0e94a5fd4a97f3",
            "96e6a1357e97446b94abe0d38c7aaad4",
            "0837f5d3164c4e2dbfa0d1e811640846"
          ]
        },
        "id": "anpIPaSi2P7_",
        "outputId": "e25407dc-6724-49fb-e341-a9e5a725c2df"
      },
      "source": [
        "%%time\n",
        "load_dataset('ljspeech')"
      ],
      "execution_count": 5,
      "outputs": [
        {
          "output_type": "display_data",
          "data": {
            "application/vnd.jupyter.widget-view+json": {
              "model_id": "86ddf6cc64bf481492d1c32c8cdb9552",
              "version_minor": 0,
              "version_major": 2
            },
            "text/plain": [
              "HBox(children=(FloatProgress(value=0.0, max=2748572632.0), HTML(value='')))"
            ]
          },
          "metadata": {
            "tags": []
          }
        },
        {
          "output_type": "stream",
          "text": [
            "\n",
            "CPU times: user 5min 1s, sys: 18.4 s, total: 5min 19s\n",
            "Wall time: 6min 17s\n"
          ],
          "name": "stdout"
        },
        {
          "output_type": "execute_result",
          "data": {
            "text/plain": [
              "<torchaudio.datasets.ljspeech.LJSPEECH at 0x7ff89447fd90>"
            ]
          },
          "metadata": {
            "tags": []
          },
          "execution_count": 5
        }
      ]
    },
    {
      "cell_type": "code",
      "metadata": {
        "id": "RorMsreWKX-H"
      },
      "source": [
        "!mkdir ./data/out"
      ],
      "execution_count": 8,
      "outputs": []
    },
    {
      "cell_type": "markdown",
      "metadata": {
        "id": "4vrHeLV1wUnf"
      },
      "source": [
        "Load pretrained HiFi-GAN models to ./pretrained directory"
      ]
    },
    {
      "cell_type": "code",
      "metadata": {
        "colab": {
          "base_uri": "https://localhost:8080/"
        },
        "id": "S0G1i2KKHqPN",
        "outputId": "d5a91a7f-e814-4c08-8deb-06c9cba708fe"
      },
      "source": [
        "!mkdir pretrained/hifigan_v1\n",
        "!gdown --id 1QEBKespXTmsMzsSRBXWdpIT0Ve7nnaRZ -O ./pretrained/hifigan_v1/HiFiGAN.pth\n",
        "!gdown --id 1l5EUVBKM0SK7ec4HWf_wZvEITAsdOLFC -O ./pretrained/hifigan_v1/config.json"
      ],
      "execution_count": 6,
      "outputs": [
        {
          "output_type": "stream",
          "text": [
            "Downloading...\n",
            "From: https://drive.google.com/uc?id=1QEBKespXTmsMzsSRBXWdpIT0Ve7nnaRZ\n",
            "To: /content/speech_distances/pretrained/hifigan_v1/HiFiGAN.pth\n",
            "55.8MB [00:00, 61.0MB/s]\n",
            "Downloading...\n",
            "From: https://drive.google.com/uc?id=1l5EUVBKM0SK7ec4HWf_wZvEITAsdOLFC\n",
            "To: /content/speech_distances/pretrained/hifigan_v1/config.json\n",
            "100% 795/795 [00:00<00:00, 1.17MB/s]\n"
          ],
          "name": "stdout"
        }
      ]
    },
    {
      "cell_type": "code",
      "metadata": {
        "id": "9n00_4bwmlQv"
      },
      "source": [
        "# !mkdir ./pretrained/hifigan_v2\n",
        "# !gdown --id 1I415g2Cdx5FWy6ECma0zEc9GhX_TnbFv -O ./pretrained/hifigan_v2/HiFiGAN.pth\n",
        "# !gdown --id 11LnhSum3EAeo5zag-tpU8HKk0MdbrQxF -O ./pretrained/hifigan_v2/config.json"
      ],
      "execution_count": 10,
      "outputs": []
    },
    {
      "cell_type": "code",
      "metadata": {
        "id": "FNByA4zJmlZL"
      },
      "source": [
        "# !mkdir ./pretrained/hifigan_v3\n",
        "# !gdown --id 1fnkOteyRdPq4Gh2cfso3gqqrC6inLWsF -O ./pretrained/hifigan_v3/HiFiGAN.pth\n",
        "# !gdown --id 1mke75axgO2sdJ41GL2HTrcb4KyAl0i45 -O ./pretrained/hifigan_v3/config.json"
      ],
      "execution_count": 11,
      "outputs": []
    },
    {
      "cell_type": "markdown",
      "metadata": {
        "id": "PqfUAaMwyLef"
      },
      "source": [
        "Run generators"
      ]
    },
    {
      "cell_type": "code",
      "metadata": {
        "colab": {
          "base_uri": "https://localhost:8080/"
        },
        "id": "odHZQ0KdJmRr",
        "outputId": "4bab2708-0768-4ae9-97d2-c763d096db95"
      },
      "source": [
        "!mkdir ./data/out/hifigan_v1/\n",
        "!python ./thirdparty/hifi-gan/inference.py --input_wavs_dir ./data/ljspeech/LJSpeech-1.1/wavs/ \\\n",
        "                                           --output_dir ./data/out/hifigan_v1/ \\\n",
        "                                           --checkpoint_file ./pretrained/hifigan_v1/HiFiGAN.pth"
      ],
      "execution_count": 9,
      "outputs": [
        {
          "output_type": "stream",
          "text": [
            "Initializing Inference Process..\n",
            "Loading './pretrained/hifigan_v1/HiFiGAN.pth'\n",
            "Complete.\n",
            "Removing weight norm...\n",
            "/usr/local/lib/python3.7/dist-packages/torch/functional.py:581: UserWarning: stft will soon require the return_complex parameter be given for real inputs, and will further require that return_complex=True in a future PyTorch release. (Triggered internally at  /pytorch/aten/src/ATen/native/SpectralOps.cpp:639.)\n",
            "  normalized, onesided, return_complex)\n",
            "./data/out/hifigan_v1/LJ002-0057_generated.wav\n",
            "./data/out/hifigan_v1/LJ037-0131_generated.wav\n",
            "./data/out/hifigan_v1/LJ049-0166_generated.wav\n",
            "./data/out/hifigan_v1/LJ013-0147_generated.wav\n",
            "./data/out/hifigan_v1/LJ050-0040_generated.wav\n",
            "./data/out/hifigan_v1/LJ016-0389_generated.wav\n",
            "./data/out/hifigan_v1/LJ036-0164_generated.wav\n",
            "./data/out/hifigan_v1/LJ031-0176_generated.wav\n",
            "./data/out/hifigan_v1/LJ025-0034_generated.wav\n",
            "./data/out/hifigan_v1/LJ048-0179_generated.wav\n"
          ],
          "name": "stdout"
        }
      ]
    },
    {
      "cell_type": "code",
      "metadata": {
        "id": "LKTex7aZy5b1"
      },
      "source": [
        "# !mkdir ./data/out/hifigan_v2/\n",
        "# !python ./thirdparty/hifi-gan/inference.py --input_wavs_dir ./data/ljspeech/LJSpeech-1.1/wavs/ \\\n",
        "#                                            --output_dir ./data/out/hifigan_v2/ \\\n",
        "#                                            --checkpoint_file ./pretrained/hifigan_v2/HiFiGAN.pth"
      ],
      "execution_count": 13,
      "outputs": []
    },
    {
      "cell_type": "code",
      "metadata": {
        "id": "rhJhFEJDy5kP"
      },
      "source": [
        "# !mkdir ./data/out/hifigan_v3/\n",
        "# !python ./thirdparty/hifi-gan/inference.py --input_wavs_dir ./data/ljspeech/LJSpeech-1.1/wavs/ \\\n",
        "#                                            --output_dir ./data/out/hifigan_v3/ \\\n",
        "#                                            --checkpoint_file ./pretrained/hifigan_v3/HiFiGAN.pth"
      ],
      "execution_count": 12,
      "outputs": []
    },
    {
      "cell_type": "code",
      "metadata": {
        "id": "-S2eheDa1fQN"
      },
      "source": [
        ""
      ],
      "execution_count": null,
      "outputs": []
    }
  ]
}