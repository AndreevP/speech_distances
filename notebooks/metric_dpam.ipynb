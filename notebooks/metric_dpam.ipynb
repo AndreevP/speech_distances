{
 "cells": [
  {
   "cell_type": "code",
   "execution_count": null,
   "id": "1ca6f9df",
   "metadata": {},
   "outputs": [],
   "source": [
    "import sys, os\n",
    "if os.path.abspath('../') not in sys.path:\n",
    "    sys.path.append(os.path.abspath('../'))"
   ]
  },
  {
   "cell_type": "code",
   "execution_count": null,
   "id": "a27dec89",
   "metadata": {},
   "outputs": [],
   "source": [
    "from PerceptualAudio_Pytorch.models import JNDnet\n",
    "\n",
    "from speech_distances.datasets import load_dataset\n",
    "from speech_distances.dpam import MetricDPAM\n",
    "\n",
    "import torch\n",
    "from torch.utils.data import DataLoader\n",
    "from torch.nn.utils.rnn import pad_sequence\n",
    "import numpy as np\n",
    "import IPython.display as ipd\n",
    "from torchvision.datasets import ImageFolder"
   ]
  },
  {
   "cell_type": "markdown",
   "id": "6a9069fb",
   "metadata": {},
   "source": [
    "## Dataset"
   ]
  },
  {
   "cell_type": "code",
   "execution_count": null,
   "id": "523f354e",
   "metadata": {},
   "outputs": [],
   "source": [
    "def pad_collate(batch):\n",
    "    (wavs, samplerates,  _, transcripts) = zip(*batch)  \n",
    "    wavs = [torch.squeeze(w) for w in wavs]\n",
    "    return pad_sequence(wavs, batch_first=True, padding_value=0.0)"
   ]
  },
  {
   "cell_type": "code",
   "execution_count": null,
   "id": "c4e32b72",
   "metadata": {},
   "outputs": [],
   "source": [
    "dataset = load_dataset('ljspeech')\n",
    "dataloader = DataLoader(dataset, batch_size=1, shuffle=False, collate_fn=pad_collate, num_workers=4)"
   ]
  },
  {
   "cell_type": "code",
   "execution_count": null,
   "id": "645ceea5",
   "metadata": {},
   "outputs": [],
   "source": [
    "iterator = iter(dataloader)\n",
    "waveforms = next(iterator)\n",
    "waveforms.shape"
   ]
  },
  {
   "cell_type": "code",
   "execution_count": null,
   "id": "28f5b6a8",
   "metadata": {},
   "outputs": [],
   "source": [
    "ipd.Audio(waveforms[0].numpy(), rate=22050)"
   ]
  },
  {
   "cell_type": "markdown",
   "id": "0ea27a8a",
   "metadata": {},
   "source": [
    "## Metric"
   ]
  },
  {
   "cell_type": "code",
   "execution_count": null,
   "id": "2bbc09f2",
   "metadata": {},
   "outputs": [],
   "source": [
    "random_waveforms = torch.zeros(*waveforms.shape).uniform_(-1,1)\n",
    "random_waveforms.shape"
   ]
  },
  {
   "cell_type": "code",
   "execution_count": null,
   "id": "db47bb82",
   "metadata": {},
   "outputs": [],
   "source": [
    "metric = MetricDPAM(path='../data/small_ljspeech_wavs', \n",
    "                    reference_path='../data/small_ljspeech_wavs', \n",
    "                    batch_size=64,\n",
    "                    device='cpu')\n",
    "metric.distance(waveforms, waveforms), metric.distance(waveforms, random_waveforms)"
   ]
  },
  {
   "cell_type": "code",
   "execution_count": null,
   "id": "2c4f7600",
   "metadata": {},
   "outputs": [],
   "source": [
    "metric.calculate_metric()"
   ]
  },
  {
   "cell_type": "code",
   "execution_count": null,
   "id": "204b542c",
   "metadata": {},
   "outputs": [],
   "source": []
  }
 ],
 "metadata": {
  "kernelspec": {
   "display_name": "Python 3",
   "language": "python",
   "name": "python3"
  },
  "language_info": {
   "codemirror_mode": {
    "name": "ipython",
    "version": 3
   },
   "file_extension": ".py",
   "mimetype": "text/x-python",
   "name": "python",
   "nbconvert_exporter": "python",
   "pygments_lexer": "ipython3",
   "version": "3.7.10"
  }
 },
 "nbformat": 4,
 "nbformat_minor": 5
}
