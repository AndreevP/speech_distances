{
 "cells": [
  {
   "cell_type": "code",
   "execution_count": 5,
   "id": "better-carter",
   "metadata": {},
   "outputs": [],
   "source": [
    "import sys, os\n",
    "if os.path.abspath('../') not in sys.path:\n",
    "    sys.path.append(os.path.abspath('../'))"
   ]
  },
  {
   "cell_type": "code",
   "execution_count": 10,
   "id": "protective-cooler",
   "metadata": {},
   "outputs": [],
   "source": [
    "import torch\n",
    "import torch.optim as optim\n",
    "import torch.nn.functional as F\n",
    "from torch.utils.data import DataLoader\n",
    "from torch.nn.utils.rnn import pad_sequence\n",
    "from torch.utils.data.sampler import SubsetRandomSampler\n",
    "# import pytorch_lightning as pl\n",
    "# from omegaconf import OmegaConf\n",
    "\n",
    "import nemo\n",
    "# import nemo.collections.tts as nemo_tts\n",
    "from nemo.collections.tts.models.base import SpectrogramGenerator, Vocoder\n",
    "from nemo.collections.tts.helpers.helpers import OperationMode\n",
    "\n",
    "import IPython.display as ipd\n",
    "import numpy as np\n",
    "import datetime\n",
    "import tensorflow as tf"
   ]
  },
  {
   "cell_type": "code",
   "execution_count": 14,
   "id": "cdc78d45",
   "metadata": {},
   "outputs": [],
   "source": [
    "from speech_distances.datasets import load_dataset\n",
    "from speech_distances.models import load_model\n",
    "from speech_distances.dpam import CustomLoss"
   ]
  },
  {
   "cell_type": "code",
   "execution_count": 22,
   "id": "7c8e2467",
   "metadata": {},
   "outputs": [],
   "source": [
    "SEQ_LEN = 1000"
   ]
  },
  {
   "cell_type": "markdown",
   "id": "automotive-gather",
   "metadata": {},
   "source": [
    "## Infer"
   ]
  },
  {
   "cell_type": "code",
   "execution_count": 4,
   "id": "prostate-supplier",
   "metadata": {},
   "outputs": [],
   "source": [
    "# spectrogram_generator = SpectrogramGenerator.from_pretrained(\"tts_en_tacotron2\", override_config_path=None)\n",
    "# spectrogram_generator.training = False\n",
    "# spectrogram_generator.calculate_loss = False"
   ]
  },
  {
   "cell_type": "code",
   "execution_count": 5,
   "id": "worst-decrease",
   "metadata": {},
   "outputs": [],
   "source": [
    "# tokens = spectrogram_generator.parse('some string that I want to hear. his is not a test alert. Please, start working. Some more text to make this text bigger. Do me a favour, please.')\n",
    "# spectrogram_generator.generate_spectrogram(tokens=tokens)"
   ]
  },
  {
   "cell_type": "code",
   "execution_count": 6,
   "id": "bulgarian-tracy",
   "metadata": {},
   "outputs": [],
   "source": [
    "# spectrograms = spectrogram_generator.generate_spectrogram(tokens=torch.cat((tokens, tokens, tokens, tokens)))"
   ]
  },
  {
   "cell_type": "code",
   "execution_count": 7,
   "id": "willing-copyright",
   "metadata": {},
   "outputs": [],
   "source": [
    "# vocoder = Vocoder.from_pretrained(\"tts_waveglow_88m\")\n",
    "# vocoder = Vocoder.from_pretrained(\"tts_squeezewave\")\n",
    "# vocoder.eval()"
   ]
  },
  {
   "cell_type": "code",
   "execution_count": 8,
   "id": "earned-salon",
   "metadata": {},
   "outputs": [],
   "source": [
    "# waveforms = vocoder.convert_spectrogram_to_audio(spec=spectrograms).cpu()"
   ]
  },
  {
   "cell_type": "code",
   "execution_count": 9,
   "id": "level-apartment",
   "metadata": {},
   "outputs": [],
   "source": [
    "# ipd.Audio(waveforms[0].numpy(), rate=22050)"
   ]
  },
  {
   "cell_type": "markdown",
   "id": "78bd69d1",
   "metadata": {},
   "source": [
    "## Dataset"
   ]
  },
  {
   "cell_type": "code",
   "execution_count": 23,
   "id": "finite-masters",
   "metadata": {},
   "outputs": [],
   "source": [
    "def pad_collate(batch):\n",
    "    (wavs, samplerates,  _, transcripts) = zip(*batch)\n",
    "    new_wavs = []\n",
    "    wav_lens = []\n",
    "    for w in wavs:\n",
    "        idx = np.random.randint(0, w.shape[1]-SEQ_LEN-1)\n",
    "        torch.squeeze(w)[idx:idx+SEQ_LEN]\n",
    "        new_wavs.append(torch.squeeze(w)[idx:idx+SEQ_LEN])\n",
    "    wav_lens = torch.ones(len(new_wavs), dtype=torch.int) * SEQ_LEN\n",
    "    \n",
    "    return torch.stack(new_wavs), wav_lens"
   ]
  },
  {
   "cell_type": "code",
   "execution_count": 24,
   "id": "congressional-postage",
   "metadata": {},
   "outputs": [],
   "source": [
    "dataset = load_dataset('ljspeech')\n",
    "# dataloader = DataLoader(dataset, batch_size=10, shuffle=False, collate_fn=pad_collate, num_workers=4)"
   ]
  },
  {
   "cell_type": "code",
   "execution_count": 25,
   "id": "transparent-freeware",
   "metadata": {},
   "outputs": [],
   "source": [
    "dataset_size = len(dataset)\n",
    "indices = list(range(dataset_size))\n",
    "validation_split = 0.8\n",
    "split = int(np.floor(validation_split * dataset_size))\n",
    "if 1 :\n",
    "    np.random.seed(1337)\n",
    "    np.random.shuffle(indices)\n",
    "train_indices, valid_indices = indices[split:], indices[:split]\n",
    "train_sampler = SubsetRandomSampler(train_indices)\n",
    "valid_sampler = SubsetRandomSampler(valid_indices)"
   ]
  },
  {
   "cell_type": "code",
   "execution_count": 26,
   "id": "inside-request",
   "metadata": {},
   "outputs": [],
   "source": [
    "batch_size = 10\n",
    "train_dataloader = DataLoader(dataset, \n",
    "                           batch_size=batch_size, \n",
    "                           shuffle=False, \n",
    "                           collate_fn=pad_collate,\n",
    "                           sampler=train_sampler,\n",
    "                           num_workers=4)\n",
    "val_dataloader = DataLoader(dataset, \n",
    "                           batch_size=batch_size, \n",
    "                           shuffle=False, \n",
    "                           collate_fn=pad_collate,\n",
    "                           sampler=valid_sampler,\n",
    "                           num_workers=4)"
   ]
  },
  {
   "cell_type": "code",
   "execution_count": 27,
   "id": "breathing-times",
   "metadata": {},
   "outputs": [],
   "source": [
    "iterator = iter(val_dataloader)\n",
    "waveforms, wav_lens= next(iterator)"
   ]
  },
  {
   "cell_type": "code",
   "execution_count": 16,
   "id": "previous-ordinance",
   "metadata": {},
   "outputs": [
    {
     "data": {
      "text/plain": [
       "(torch.Size([10, 5000]),\n",
       " tensor([5000, 5000, 5000, 5000, 5000, 5000, 5000, 5000, 5000, 5000],\n",
       "        dtype=torch.int32))"
      ]
     },
     "execution_count": 16,
     "metadata": {},
     "output_type": "execute_result"
    }
   ],
   "source": [
    "waveforms.shape, wav_lens"
   ]
  },
  {
   "cell_type": "code",
   "execution_count": 28,
   "id": "touched-substance",
   "metadata": {},
   "outputs": [
    {
     "data": {
      "text/html": [
       "\n",
       "                <audio  controls=\"controls\" >\n",
       "                    <source src=\"data:audio/wav;base64,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\" type=\"audio/wav\" />\n",
       "                    Your browser does not support the audio element.\n",
       "                </audio>\n",
       "              "
      ],
      "text/plain": [
       "<IPython.lib.display.Audio object>"
      ]
     },
     "execution_count": 28,
     "metadata": {},
     "output_type": "execute_result"
    }
   ],
   "source": [
    "ipd.Audio(waveforms[0].numpy(), rate=22050)"
   ]
  },
  {
   "cell_type": "markdown",
   "id": "internal-priest",
   "metadata": {},
   "source": [
    "## Train Vocoder"
   ]
  },
  {
   "cell_type": "code",
   "execution_count": 14,
   "id": "ranging-belize",
   "metadata": {},
   "outputs": [],
   "source": [
    "# WaveGlow 88M\n",
    "# SqueezeNet 24M\n",
    "# HiFiGan 84M\n",
    "# MelGan 9M\n",
    "# UniGlow 4M"
   ]
  },
  {
   "cell_type": "code",
   "execution_count": 30,
   "id": "terminal-registration",
   "metadata": {},
   "outputs": [
    {
     "name": "stdout",
     "output_type": "stream",
     "text": [
      "[NeMo I 2021-05-28 02:56:46 cloud:66] Downloading from: https://api.ngc.nvidia.com/v2/models/nvidia/nemo/tts_uniglow/versions/1.0.0rc1/files/tts_uniglow.nemo to /home/darayavaus/.cache/torch/NeMo/NeMo_1.0.0rc1/tts_uniglow/6d1602a9610471099e8fcc2d29e5ae9a/tts_uniglow.nemo\n",
      "[NeMo I 2021-05-28 03:00:27 common:654] Instantiating model from pre-trained checkpoint\n"
     ]
    },
    {
     "name": "stderr",
     "output_type": "stream",
     "text": [
      "[NeMo W 2021-05-28 03:00:27 modelPT:133] Please call the ModelPT.setup_training_data() method and provide a valid configuration file to setup the train data loader.\n",
      "    Train config : \n",
      "    dataset:\n",
      "      _target_: nemo.collections.tts.data.datalayers.AudioDataset\n",
      "      manifest_filepath: /home/tlv/data/LJSpeech-1.1/train.txt\n",
      "      max_duration: null\n",
      "      min_duration: 0.1\n",
      "      n_segments: 16384\n",
      "      trim: false\n",
      "    dataloader_params:\n",
      "      drop_last: false\n",
      "      shuffle: true\n",
      "      batch_size: 12\n",
      "      num_workers: 4\n",
      "    \n",
      "[NeMo W 2021-05-28 03:00:27 modelPT:140] Please call the ModelPT.setup_validation_data() or ModelPT.setup_multiple_validation_data() method and provide a valid configuration file to setup the validation data loader(s). \n",
      "    Validation config : \n",
      "    dataset:\n",
      "      _target_: nemo.collections.tts.data.datalayers.AudioDataset\n",
      "      manifest_filepath: /home/tlv/data/LJSpeech-1.1/val.txt\n",
      "      max_duration: null\n",
      "      min_duration: 0.1\n",
      "      n_segments: 49152\n",
      "      trim: false\n",
      "    dataloader_params:\n",
      "      drop_last: false\n",
      "      shuffle: false\n",
      "      batch_size: 12\n",
      "      num_workers: 4\n",
      "    \n"
     ]
    },
    {
     "name": "stdout",
     "output_type": "stream",
     "text": [
      "[NeMo I 2021-05-28 03:00:27 features:240] PADDING: 0\n",
      "[NeMo I 2021-05-28 03:00:27 features:249] STFT using conv\n",
      "[NeMo I 2021-05-28 03:00:28 modelPT:376] Model UniGlowModel was successfully restored from /home/darayavaus/.cache/torch/NeMo/NeMo_1.0.0rc1/tts_uniglow/6d1602a9610471099e8fcc2d29e5ae9a/tts_uniglow.nemo.\n"
     ]
    }
   ],
   "source": [
    "# model\n",
    "# vocoder = load_model('uniglow', device='cuda')\n",
    "vocoder = load_model('uniglow', device='cpu')"
   ]
  },
  {
   "cell_type": "code",
   "execution_count": 32,
   "id": "funded-harassment",
   "metadata": {},
   "outputs": [
    {
     "ename": "SyntaxError",
     "evalue": "f-string: empty expression not allowed (<unknown>, line 32)",
     "output_type": "error",
     "traceback": [
      "Traceback \u001b[0;36m(most recent call last)\u001b[0m:\n",
      "  File \u001b[1;32m\"/home/darayavaus/projects/env/lib/python3.7/site-packages/IPython/core/interactiveshell.py\"\u001b[0m, line \u001b[1;32m3441\u001b[0m, in \u001b[1;35mrun_code\u001b[0m\n    exec(code_obj, self.user_global_ns, self.user_ns)\n",
      "  File \u001b[1;32m\"<ipython-input-32-16457fed6398>\"\u001b[0m, line \u001b[1;32m1\u001b[0m, in \u001b[1;35m<module>\u001b[0m\n    get_ipython().run_cell_magic('time', '', '\\n# optimizer\\noptimizer = optim.Adam(vocoder.parameters(), lr=1e-4)\\n# logger\\ncurrent_time = datetime.datetime.now().strftime(\"%Y%m%d-%H%M%S\")\\nlog_dir = \\'logs/\\' + current_time\\nsummary_writer = tf.summary.create_file_writer(log_dir)\\ncustom_loss = CustomLoss(seq_len=SEQ_LEN, stft_loss_coef=0.1, dpam_loss_coef=1.0)\\n\\nmax_epoch=30\\nstep = 100\\nrunning_loss = 0.0\\nvocoder.train()\\nfor epoch in range(max_epoch):\\n    \\n    if epoch+1 % 1 == 0:\\n        running_dpam_loss = 0.0\\n        running_loss = 0.0\\n        for i, batch in enumerate(val_dataloader, 0):\\n            vocoder.mode = OperationMode.validation\\n            z, logdet, predicted_audio, spec, spec_len = vocoder(audio=waveforms.cuda(), audio_len=wav_lens.cuda())\\n            loss = custom_loss(z=z, logdet=logdet, gt_audio=waveforms.cuda(), predicted_audio=predicted_audio, sigma=1.0)\\n            running_loss += loss.item()\\n            shape_diff = SEQ_LEN - predicted_audio.shape[1]\\n            predicted_audio = F.pad(predicted_audio, (0, shape_diff), mode=\\'constant\\', value=0)\\n            dpam_loss = torch.mean(model.model_dist.forward(predicted_audio, waveforms.cuda()))\\n            running_dpam_loss += dpam_loss.item()\\n        print(\\'[%d] val loss: %.3f\\' %\\n                  (epoch+1, running_loss / step))\\n        with summary_writer.as_default():\\n            tf.summary.scalar(\\'validation loss\\', running_loss/len(val_dataloader), step=epoch+1)\\n            tf.summary.scalar(\\'validation dpam loss\\', running_dpam_loss/len(val_dataloader), step=epoch+1)\\n        torch.save(vocoder.state_dict(), f\\'{log_dir}/uniglow_epoch{}.state\\')\\n\\n    running_loss = 0.0\\n    for i, batch in enumerate(train_dataloader, 0):\\n        optimizer.zero_grad()\\n        waveforms, wav_lens = batch\\n        vocoder.mode = OperationMode.training\\n        z, logdet, predicted_audio = vocoder(audio=waveforms.cuda(), audio_len=wav_lens.cuda())\\n        loss = custom_loss(z=z, \\n                           logdet=logdet, \\n                           gt_audio=waveforms.cuda(), \\n                           predicted_audio=predicted_audio, \\n                           sigma=1.0)\\n        loss.backward()\\n        optimizer.step()\\n\\n        running_loss += loss.item()\\n        if i % step == step-1:\\n            print(\\'[%d, %5d] loss: %.3f\\' %\\n                  (epoch+1, i+1, running_loss / step))\\n            with summary_writer.as_default():\\n                tf.summary.scalar(\\'training loss\\', running_loss/step, step=i+1)\\n#                 tf.summary.scalar(\\'training dpam loss\\', running_dpam_loss/step, step=i+1)\\n            running_loss = 0.0\\n\\n\\ntorch.save(vocoder.state_dict(), f\\'{log_dir}/uniglow_epoch{}.state\\')\\nprint(\\'Finished Training\\')\\n')\n",
      "  File \u001b[1;32m\"/home/darayavaus/projects/env/lib/python3.7/site-packages/IPython/core/interactiveshell.py\"\u001b[0m, line \u001b[1;32m2403\u001b[0m, in \u001b[1;35mrun_cell_magic\u001b[0m\n    result = fn(*args, **kwargs)\n",
      "  File \u001b[1;32m\"/home/darayavaus/projects/env/lib/python3.7/site-packages/decorator.py\"\u001b[0m, line \u001b[1;32m232\u001b[0m, in \u001b[1;35mfun\u001b[0m\n    return caller(func, *(extras + args), **kw)\n",
      "  File \u001b[1;32m\"/home/darayavaus/projects/env/lib/python3.7/site-packages/IPython/core/magic.py\"\u001b[0m, line \u001b[1;32m187\u001b[0m, in \u001b[1;35m<lambda>\u001b[0m\n    call = lambda f, *a, **k: f(*a, **k)\n",
      "  File \u001b[1;32m\"/home/darayavaus/projects/env/lib/python3.7/site-packages/IPython/core/magics/execution.py\"\u001b[0m, line \u001b[1;32m1277\u001b[0m, in \u001b[1;35mtime\u001b[0m\n    expr_ast = self.shell.compile.ast_parse(expr)\n",
      "\u001b[0;36m  File \u001b[0;32m\"/home/darayavaus/projects/env/lib/python3.7/site-packages/IPython/core/compilerop.py\"\u001b[0;36m, line \u001b[0;32m101\u001b[0;36m, in \u001b[0;35mast_parse\u001b[0;36m\u001b[0m\n\u001b[0;31m    return compile(source, filename, symbol, self.flags | PyCF_ONLY_AST, 1)\u001b[0m\n",
      "\u001b[0;36m  File \u001b[0;32m\"<unknown>\"\u001b[0;36m, line \u001b[0;32m32\u001b[0m\n\u001b[0;31mSyntaxError\u001b[0m\u001b[0;31m:\u001b[0m f-string: empty expression not allowed\n"
     ]
    }
   ],
   "source": [
    "%%time\n",
    "\n",
    "# optimizer\n",
    "optimizer = optim.Adam(vocoder.parameters(), lr=1e-4)\n",
    "# logger\n",
    "current_time = datetime.datetime.now().strftime(\"%Y%m%d-%H%M%S\")\n",
    "log_dir = 'logs/' + current_time\n",
    "summary_writer = tf.summary.create_file_writer(log_dir)\n",
    "custom_loss = CustomLoss(seq_len=SEQ_LEN, stft_loss_coef=0.1, dpam_loss_coef=1.0)\n",
    "\n",
    "max_epoch=30\n",
    "step = 100\n",
    "running_loss = 0.0\n",
    "vocoder.train()\n",
    "for epoch in range(max_epoch):\n",
    "    \n",
    "    if epoch+1 % 5 == 0:\n",
    "        running_dpam_loss = 0.0\n",
    "        running_loss = 0.0\n",
    "        for i, batch in enumerate(val_dataloader, 0):\n",
    "            vocoder.mode = OperationMode.validation\n",
    "            z, logdet, predicted_audio, spec, spec_len = vocoder(audio=waveforms.cuda(), audio_len=wav_lens.cuda())\n",
    "            loss = custom_loss(z=z, logdet=logdet, gt_audio=waveforms.cuda(), predicted_audio=predicted_audio, sigma=1.0)\n",
    "            running_loss += loss.item()\n",
    "            shape_diff = SEQ_LEN - predicted_audio.shape[1]\n",
    "            predicted_audio = F.pad(predicted_audio, (0, shape_diff), mode='constant', value=0)\n",
    "            dpam_loss = torch.mean(model.model_dist.forward(predicted_audio, waveforms.cuda()))\n",
    "            running_dpam_loss += dpam_loss.item()\n",
    "        print('[%d] val loss: %.3f' %\n",
    "                  (epoch+1, running_loss / step))\n",
    "        with summary_writer.as_default():\n",
    "            tf.summary.scalar('validation loss', \n",
    "                              running_loss/len(val_dataloader), \n",
    "                              step=epoch+1)\n",
    "            tf.summary.scalar('validation dpam loss', \n",
    "                              running_dpam_loss/len(val_dataloader), \n",
    "                              step=epoch+1)\n",
    "        torch.save(vocoder.state_dict(), f'{log_dir}/uniglow_epoch{}.state')\n",
    "\n",
    "    running_loss = 0.0\n",
    "    for i, batch in enumerate(train_dataloader, 0):\n",
    "        optimizer.zero_grad()\n",
    "        waveforms, wav_lens = batch\n",
    "        vocoder.mode = OperationMode.training\n",
    "        z, logdet, predicted_audio = vocoder(audio=waveforms.cuda(), audio_len=wav_lens.cuda())\n",
    "        loss = custom_loss(z=z, \n",
    "                           logdet=logdet, \n",
    "                           gt_audio=waveforms.cuda(), \n",
    "                           predicted_audio=predicted_audio, \n",
    "                           sigma=1.0)\n",
    "        loss.backward()\n",
    "        optimizer.step()\n",
    "\n",
    "        running_loss += loss.item()\n",
    "        if i % step == step-1:\n",
    "            print('[%d, %5d] loss: %.3f' %\n",
    "                  (epoch+1, i+1, running_loss / step))\n",
    "            with summary_writer.as_default():\n",
    "                tf.summary.scalar('training loss', running_loss/step, step=i+1)\n",
    "            running_loss = 0.0\n",
    "\n",
    "\n",
    "torch.save(vocoder.state_dict(), f'{log_dir}/uniglow_epoch{}.state')\n",
    "print('Finished Training')"
   ]
  },
  {
   "cell_type": "raw",
   "id": "aware-blackjack",
   "metadata": {},
   "source": [
    "torch.cuda.empty_cache()"
   ]
  },
  {
   "cell_type": "code",
   "execution_count": 21,
   "id": "planned-graham",
   "metadata": {},
   "outputs": [
    {
     "name": "stdout",
     "output_type": "stream",
     "text": [
      "Thu May 27 13:20:05 2021       \n",
      "+-----------------------------------------------------------------------------+\n",
      "| NVIDIA-SMI 460.32.03    Driver Version: 460.32.03    CUDA Version: 11.2     |\n",
      "|-------------------------------+----------------------+----------------------+\n",
      "| GPU  Name        Persistence-M| Bus-Id        Disp.A | Volatile Uncorr. ECC |\n",
      "| Fan  Temp  Perf  Pwr:Usage/Cap|         Memory-Usage | GPU-Util  Compute M. |\n",
      "|                               |                      |               MIG M. |\n",
      "|===============================+======================+======================|\n",
      "|   0  GeForce RTX 208...  Off  | 00000000:02:00.0 Off |                  N/A |\n",
      "| 27%   35C    P2    59W / 260W |  10998MiB / 11019MiB |      0%      Default |\n",
      "|                               |                      |                  N/A |\n",
      "+-------------------------------+----------------------+----------------------+\n",
      "                                                                               \n",
      "+-----------------------------------------------------------------------------+\n",
      "| Processes:                                                                  |\n",
      "|  GPU   GI   CI        PID   Type   Process name                  GPU Memory |\n",
      "|        ID   ID                                                   Usage      |\n",
      "|=============================================================================|\n",
      "|    0   N/A  N/A   4082139      C   ...eech_distances/bin/python    10995MiB |\n",
      "+-----------------------------------------------------------------------------+\n"
     ]
    }
   ],
   "source": [
    "!nvidia-smi"
   ]
  },
  {
   "cell_type": "code",
   "execution_count": null,
   "id": "organized-walnut",
   "metadata": {},
   "outputs": [],
   "source": []
  }
 ],
 "metadata": {
  "kernelspec": {
   "display_name": "Python 3",
   "language": "python",
   "name": "python3"
  },
  "language_info": {
   "codemirror_mode": {
    "name": "ipython",
    "version": 3
   },
   "file_extension": ".py",
   "mimetype": "text/x-python",
   "name": "python",
   "nbconvert_exporter": "python",
   "pygments_lexer": "ipython3",
   "version": "3.7.10"
  }
 },
 "nbformat": 4,
 "nbformat_minor": 5
}
