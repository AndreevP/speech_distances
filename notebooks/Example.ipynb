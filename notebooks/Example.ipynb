{
 "cells": [
  {
   "cell_type": "code",
   "execution_count": null,
   "id": "valuable-lingerie",
   "metadata": {},
   "outputs": [],
   "source": [
    "import sys, os\n",
    "if os.path.abspath('../') not in sys.path:\n",
    "    sys.path.append(os.path.abspath('../'))"
   ]
  },
  {
   "cell_type": "code",
   "execution_count": null,
   "id": "sound-mission",
   "metadata": {},
   "outputs": [],
   "source": [
    "from speech_distances import DPAM"
   ]
  },
  {
   "cell_type": "code",
   "execution_count": null,
   "id": "minus-queensland",
   "metadata": {},
   "outputs": [],
   "source": [
    "DPAM.list_available_models(), DPAM.list_available_datasets() "
   ]
  },
  {
   "cell_type": "code",
   "execution_count": null,
   "id": "adapted-ground",
   "metadata": {},
   "outputs": [],
   "source": [
    "metric = DPAM(model='quartznet', dataset='ljspeech')"
   ]
  },
  {
   "cell_type": "code",
   "execution_count": null,
   "id": "executed-florida",
   "metadata": {},
   "outputs": [],
   "source": [
    "metric.model"
   ]
  },
  {
   "cell_type": "code",
   "execution_count": null,
   "id": "alpha-chorus",
   "metadata": {},
   "outputs": [],
   "source": [
    "metric.dataset"
   ]
  },
  {
   "cell_type": "code",
   "execution_count": null,
   "id": "compact-orlando",
   "metadata": {},
   "outputs": [],
   "source": [
    "metric.calculate()"
   ]
  },
  {
   "cell_type": "code",
   "execution_count": null,
   "id": "universal-beauty",
   "metadata": {},
   "outputs": [],
   "source": []
  }
 ],
 "metadata": {
  "kernelspec": {
   "display_name": "speech_distances",
   "language": "python",
   "name": "speech_distances"
  },
  "language_info": {
   "codemirror_mode": {
    "name": "ipython",
    "version": 3
   },
   "file_extension": ".py",
   "mimetype": "text/x-python",
   "name": "python",
   "nbconvert_exporter": "python",
   "pygments_lexer": "ipython3",
   "version": "3.7.10"
  }
 },
 "nbformat": 4,
 "nbformat_minor": 5
}
