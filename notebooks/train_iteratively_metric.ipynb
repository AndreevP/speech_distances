{
 "cells": [
  {
   "cell_type": "code",
   "execution_count": null,
   "metadata": {},
   "outputs": [],
   "source": [
    "import sys, os\n",
    "if os.path.abspath('../') not in sys.path:\n",
    "    sys.path.append(os.path.abspath('../'))"
   ]
  },
  {
   "cell_type": "code",
   "execution_count": null,
   "metadata": {},
   "outputs": [],
   "source": [
    "import IPython.display\n",
    "\n",
    "def play_audio(audio, sample_rate=22100):\n",
    "    \"\"\"\n",
    "    Play raw audio in Jupyter notebook.\n",
    "\n",
    "    audio:\n",
    "        torch.Tensor or numpy.ndarray, shape == (1, t)\n",
    "        Raw audio, e.g. from `Vocoder`.\n",
    "\n",
    "    return:\n",
    "    widget:\n",
    "        IPython.display.Audio\n",
    "        Jupyter notebook widget.\n",
    "    \"\"\"\n",
    "    return IPython.display.Audio(audio, rate=sample_rate, autoplay=True)"
   ]
  },
  {
   "cell_type": "code",
   "execution_count": null,
   "metadata": {},
   "outputs": [],
   "source": [
    "import torchaudio\n",
    "import wandb\n",
    "from speech_distances.models import load_model\n",
    "from ss_models.synthesis_utils import make_preprocessor_trainable\n",
    "from torch import nn\n",
    "import torch"
   ]
  },
  {
   "cell_type": "code",
   "execution_count": null,
   "metadata": {},
   "outputs": [],
   "source": [
    "wav, sample_rate = torchaudio.load('../../audios_val_14780_1.wav')\n",
    "num_iters = 1000"
   ]
  },
  {
   "cell_type": "code",
   "execution_count": null,
   "metadata": {},
   "outputs": [],
   "source": [
    "def calc_l2(signal_a, signal_b):\n",
    "    return torch.sqrt(torch.mean((signal_a - signal_b) ** 2))\n",
    "\n",
    "class LpipsL2(nn.Module):\n",
    "    def __init__(self, model, decay=None):\n",
    "        super().__init__()\n",
    "        self.features = model.encoder.encoder\n",
    "        self.decay = decay\n",
    "    \n",
    "    def forward(self, signal_left, signal_left_len, signal_right, signal_right_len):\n",
    "        dists = []\n",
    "        signal_left = [signal_left]\n",
    "        signal_right = [signal_right]\n",
    "        for i, layer in enumerate(self.features):\n",
    "            signal_left, signal_left_len = layer((signal_left, signal_left_len))\n",
    "            signal_right, signal_right_len = layer((signal_right, signal_right_len))\n",
    "            dist = calc_l2(signal_left[-1], signal_right[-1])[None]\n",
    "            if decay is not None:\n",
    "                dist *= 1 / (i + 1) ** (1.0 / decay)\n",
    "            dists.append(dist)\n",
    "        return torch.mean(torch.cat(dists))"
   ]
  },
  {
   "cell_type": "code",
   "execution_count": null,
   "metadata": {},
   "outputs": [],
   "source": [
    "def train_loop(num_iters, stt, audio_left, audio_right, optimizer, loss_fn=lambda signal_left, seq_len_left, signal_right, seq_len_right: calc_l2(signal_left, signal_right)):\n",
    "    for i in range(num_iters):\n",
    "        optimizer.zero_grad()\n",
    "        signal_left, seq_len = stt.preprocessor.get_features(audio_left, torch.tensor(audio_left.shape[-1])[None].cuda())\n",
    "        signal_right, seq_len = stt.preprocessor.get_features(audio_right + 0., torch.tensor(audio_right.shape[-1])[None].cuda())\n",
    "        loss = loss_fn(signal_left, seq_len, signal_right, seq_len)\n",
    "        loss.backward()\n",
    "        optimizer.step()\n",
    "        torch.nn.utils.clip_grad_value_([audio_right], 5)\n",
    "        if i % 10 == 0:\n",
    "            examples = [\n",
    "                wandb.Image(signal_right.detach().cpu().numpy(), caption='predicted_mel'),\n",
    "                wandb.Image(signal_left.detach().cpu().numpy(), caption='target_mel'),\n",
    "            ]\n",
    "            wandb.log({\n",
    "                \"mels\": examples\n",
    "            }, step=i)\n",
    "\n",
    "            examples = []\n",
    "            examples.append(wandb.Audio(audio_right.detach().cpu()[0], caption='reconstructed_wav', sample_rate=sample_rate))\n",
    "            examples.append(wandb.Audio(audio_left.detach().cpu()[0], caption='target_wav', sample_rate=sample_rate))\n",
    "            wandb.log({\n",
    "                \"audios\": examples\n",
    "            }, step=i)"
   ]
  },
  {
   "cell_type": "code",
   "execution_count": null,
   "metadata": {},
   "outputs": [],
   "source": [
    "from scipy.ndimage import gaussian_filter1d\n",
    "\n",
    "def make_train_data():\n",
    "    audio_left = wav.clone().cuda()\n",
    "    blurred_wav = gaussian_filter1d(wav.cpu().numpy(), 6)\n",
    "    blurred_wav = torch.from_numpy(blurred_wav).cuda()\n",
    "    audio_right = blurred_wav.clone()\n",
    "    audio_right.requires_grad = True\n",
    "\n",
    "    optimizer = torch.optim.Adam([audio_right], lr=1e-3)\n",
    "    return audio_left, audio_right, optimizer"
   ]
  },
  {
   "cell_type": "code",
   "execution_count": null,
   "metadata": {},
   "outputs": [],
   "source": [
    "wandb.init(project='lpips_audio')\n",
    "\n",
    "stt = load_model('quartznet').cuda()\n",
    "stt = make_preprocessor_trainable(stt).cuda()\n",
    "audio_left, audio_right, optimizer = make_train_data()\n",
    "train_loop(num_iters, stt, audio_left, audio_right, optimizer)"
   ]
  },
  {
   "cell_type": "code",
   "execution_count": null,
   "metadata": {},
   "outputs": [],
   "source": [
    "wandb.init(project='lpips_audio')\n",
    "\n",
    "stt = load_model('quartznet').cuda()\n",
    "stt = make_preprocessor_trainable(stt).cuda()\n",
    "loss_l2_pips = LpipsL2(stt)\n",
    "audio_left, audio_right, optimizer = make_train_data()\n",
    "train_loop(num_iters, stt, audio_left, audio_right, optimizer, loss_l2_pips)"
   ]
  },
  {
   "cell_type": "code",
   "execution_count": null,
   "metadata": {},
   "outputs": [],
   "source": [
    "wandb.init(project='lpips_audio')\n",
    "\n",
    "stt = load_model('quartznet').cuda()\n",
    "stt = make_preprocessor_trainable(stt).cuda()\n",
    "loss_l2_pips = LpipsL2(stt, decay=2)\n",
    "audio_left, audio_right, optimizer = make_train_data()\n",
    "train_loop(num_iters, stt, audio_left, audio_right, optimizer, loss_l2_pips)"
   ]
  },
  {
   "cell_type": "code",
   "execution_count": null,
   "metadata": {},
   "outputs": [],
   "source": [
    "wandb.init(project='lpips_audio')\n",
    "\n",
    "stt = load_model('speakerverification_speakernet').cuda()\n",
    "stt = make_preprocessor_trainable(stt).cuda()\n",
    "loss_l2_pips = LpipsL2(stt)\n",
    "audio_left, audio_right, optimizer = make_train_data()\n",
    "train_loop(num_iters, stt, audio_left, audio_right, optimizer, loss_l2_pips)"
   ]
  },
  {
   "cell_type": "code",
   "execution_count": null,
   "metadata": {},
   "outputs": [],
   "source": [
    "wandb.init(project='lpips_audio')\n",
    "\n",
    "stt = load_model('speakerrecognition_speakernet').cuda()\n",
    "stt = make_preprocessor_trainable(stt).cuda()\n",
    "loss_l2_pips = LpipsL2(stt)\n",
    "audio_left, audio_right, optimizer = make_train_data()\n",
    "train_loop(num_iters, stt, audio_left, audio_right, optimizer, loss_l2_pips)"
   ]
  },
  {
   "cell_type": "code",
   "execution_count": null,
   "metadata": {},
   "outputs": [],
   "source": [
    "wandb.init(project='lpips_audio')\n",
    "\n",
    "stt = load_model('jasper').cuda()\n",
    "stt = make_preprocessor_trainable(stt).cuda()\n",
    "loss_l2_pips = LpipsL2(stt)\n",
    "audio_left, audio_right, optimizer = make_train_data()\n",
    "train_loop(num_iters, stt, audio_left, audio_right, optimizer, loss_l2_pips)"
   ]
  },
  {
   "cell_type": "code",
   "execution_count": null,
   "metadata": {},
   "outputs": [],
   "source": [
    "wandb.init(project='lpips_audio')\n",
    "\n",
    "stt = load_model('quartznet_de').cuda()\n",
    "stt = make_preprocessor_trainable(stt).cuda()\n",
    "loss_l2_pips = LpipsL2(stt)\n",
    "audio_left, audio_right, optimizer = make_train_data()\n",
    "train_loop(num_iters, stt, audio_left, audio_right, optimizer, loss_l2_pips)"
   ]
  },
  {
   "cell_type": "code",
   "execution_count": null,
   "metadata": {},
   "outputs": [],
   "source": [
    "## Todo: wav2vec"
   ]
  },
  {
   "cell_type": "code",
   "execution_count": null,
   "metadata": {},
   "outputs": [],
   "source": [
    "wandb.init(project='lpips_audio')\n",
    "\n",
    "stt = load_model('wav2vec2').cuda()\n",
    "stt = make_preprocessor_trainable(stt).cuda()\n",
    "loss_l2_pips = LpipsL2(stt)\n",
    "audio_left, audio_right, optimizer = make_train_data()\n",
    "train_loop(num_iters, stt, audio_left, audio_right, optimizer, loss_l2_pips)"
   ]
  },
  {
   "cell_type": "code",
   "execution_count": null,
   "metadata": {},
   "outputs": [],
   "source": [
    "wandb.init(project='lpips_audio')\n",
    "\n",
    "stt = load_model('wav2vec2_conv').cuda()\n",
    "stt = make_preprocessor_trainable(stt).cuda()\n",
    "loss_l2_pips = LpipsL2(stt)\n",
    "audio_left, audio_right, optimizer = make_train_data()\n",
    "train_loop(num_iters, stt, audio_left, audio_right, optimizer, loss_l2_pips)"
   ]
  }
 ],
 "metadata": {
  "kernelspec": {
   "display_name": "Python 3",
   "language": "python",
   "name": "python3"
  },
  "language_info": {
   "codemirror_mode": {
    "name": "ipython",
    "version": 3
   },
   "file_extension": ".py",
   "mimetype": "text/x-python",
   "name": "python",
   "nbconvert_exporter": "python",
   "pygments_lexer": "ipython3",
   "version": "3.8.5"
  }
 },
 "nbformat": 4,
 "nbformat_minor": 4
}
